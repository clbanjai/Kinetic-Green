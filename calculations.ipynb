{
 "cells": [
  {
   "cell_type": "code",
   "execution_count": null,
   "metadata": {},
   "outputs": [],
   "source": [
    "import pandas as pd\n",
    "import seaborn as sns\n",
    "import matplotlib.pyplot as plt\n",
    "import plotly.express as px\n",
    "import os"
   ]
  },
  {
   "cell_type": "code",
   "execution_count": 2,
   "metadata": {},
   "outputs": [
    {
     "name": "stdout",
     "output_type": "stream",
     "text": [
      "        County  Avg_Screening_Study_Duration  Avg_FIS_Approval_Duration\n",
      "0     Anderson                     83.500000                      669.0\n",
      "1      Andrews                     36.000000                        NaN\n",
      "2     Angelina                     51.000000                     2238.0\n",
      "3       Archer                     84.000000                        NaN\n",
      "4    Armstrong                     30.000000                        NaN\n",
      "..         ...                           ...                        ...\n",
      "121    Wichita                     82.500000                        NaN\n",
      "122  Wilbarger                     80.500000                        NaN\n",
      "123     Wilson                     88.200000                      563.5\n",
      "124     Zapata                     79.428571                        NaN\n",
      "125     Zavala                     87.000000                        NaN\n",
      "\n",
      "[126 rows x 3 columns]\n"
     ]
    }
   ],
   "source": [
    "queue = pd.read_csv('ERCOT_Interconnection_Queue.csv')\n",
    "\n",
    "# Convert date columns to datetime format\n",
    "queue['Screening Study Started'] = pd.to_datetime(queue['Screening Study Started'])\n",
    "queue['Screening Study Complete'] = pd.to_datetime(queue['Screening Study Complete'])\n",
    "queue['FIS Requested'] = pd.to_datetime(queue['FIS Requested'])\n",
    "queue['FIS Approved'] = pd.to_datetime(queue['FIS Approved'])\n",
    "\n",
    "# Calculate the difference in days for screening study\n",
    "queue['Screening Study Duration (days)'] = (queue['Screening Study Complete'] - queue['Screening Study Started']).dt.days\n",
    "\n",
    "# Calculate the difference in days for FIS approval\n",
    "queue['FIS Approval Duration (days)'] = (queue['FIS Approved'] - queue['FIS Requested']).dt.days\n",
    "\n",
    "# Handle missing values (e.g., NaN) without converting to 'N/A'\n",
    "queue['Screening Study Duration (days)'] = pd.to_numeric(queue['Screening Study Duration (days)'], errors='coerce')\n",
    "queue['FIS Approval Duration (days)'] = pd.to_numeric(queue['FIS Approval Duration (days)'], errors='coerce')\n",
    "\n",
    "# Filter the rows where q_status is 'operational' (if needed)\n",
    "# queue = queue[queue['q_status'] == 'operational']\n",
    "\n",
    "# Calculate average durations by County\n",
    "average_durations = queue.groupby('County').agg(\n",
    "    Avg_Screening_Study_Duration=('Screening Study Duration (days)', 'mean'),\n",
    "    Avg_FIS_Approval_Duration=('FIS Approval Duration (days)', 'mean')\n",
    ").reset_index()\n",
    "\n",
    "# Display the results\n",
    "print(average_durations)\n"
   ]
  },
  {
   "cell_type": "code",
   "execution_count": null,
   "metadata": {},
   "outputs": [],
   "source": [
    "import pandas as pd\n",
    "import seaborn as sns\n",
    "import matplotlib.pyplot as plt\n",
    "import plotly.express as px\n",
    "import os"
   ]
  },
  {
   "cell_type": "code",
   "execution_count": 4,
   "metadata": {},
   "outputs": [
    {
     "name": "stdout",
     "output_type": "stream",
     "text": [
      "        County  Avg_Screening_Study_Duration  Avg_FIS_Approval_Duration\n",
      "0     Anderson                     83.500000                      669.0\n",
      "1      Andrews                     36.000000                        NaN\n",
      "2     Angelina                     51.000000                     2238.0\n",
      "3       Archer                     84.000000                        NaN\n",
      "4    Armstrong                     30.000000                        NaN\n",
      "..         ...                           ...                        ...\n",
      "121    Wichita                     82.500000                        NaN\n",
      "122  Wilbarger                     80.500000                        NaN\n",
      "123     Wilson                     88.200000                      563.5\n",
      "124     Zapata                     79.428571                        NaN\n",
      "125     Zavala                     87.000000                        NaN\n",
      "\n",
      "[126 rows x 3 columns] AA\n"
     ]
    }
   ],
   "source": [
    "queue = pd.read_csv('ERCOT_Interconnection_Queue.csv')\n",
    "\n",
    "# Convert date columns to datetime format\n",
    "queue['Screening Study Started'] = pd.to_datetime(queue['Screening Study Started'])\n",
    "queue['Screening Study Complete'] = pd.to_datetime(queue['Screening Study Complete'])\n",
    "queue['FIS Requested'] = pd.to_datetime(queue['FIS Requested'])\n",
    "queue['FIS Approved'] = pd.to_datetime(queue['FIS Approved'])\n",
    "\n",
    "# Calculate the difference in days for screening study\n",
    "queue['Screening Study Duration (days)'] = (queue['Screening Study Complete'] - queue['Screening Study Started']).dt.days\n",
    "\n",
    "# Calculate the difference in days for FIS approval\n",
    "queue['FIS Approval Duration (days)'] = (queue['FIS Approved'] - queue['FIS Requested']).dt.days\n",
    "\n",
    "# Handle missing values (e.g., NaN) without converting to 'N/A'\n",
    "queue['Screening Study Duration (days)'] = pd.to_numeric(queue['Screening Study Duration (days)'], errors='coerce')\n",
    "queue['FIS Approval Duration (days)'] = pd.to_numeric(queue['FIS Approval Duration (days)'], errors='coerce')\n",
    "\n",
    "# Filter the rows where q_status is 'operational' (if needed)\n",
    "# queue = queue[queue['q_status'] == 'operational']\n",
    "\n",
    "# Calculate average durations by County\n",
    "average_durations = queue.groupby('County').agg(\n",
    "    Avg_Screening_Study_Duration=('Screening Study Duration (days)', 'mean'),\n",
    "    Avg_FIS_Approval_Duration=('FIS Approval Duration (days)', 'mean')\n",
    ").reset_index()\n",
    "\n",
    "# Display the results\n",
    "print(average_durations,\"AA\")"
   ]
  },
  {
   "cell_type": "code",
   "execution_count": null,
   "metadata": {},
   "outputs": [],
   "source": []
  }
 ],
 "metadata": {
  "kernelspec": {
   "display_name": "Python 3 (ipykernel)",
   "language": "python",
   "name": "python3"
  },
  "language_info": {
   "codemirror_mode": {
    "name": "ipython",
    "version": 3
   },
   "file_extension": ".py",
   "mimetype": "text/x-python",
   "name": "python",
   "nbconvert_exporter": "python",
   "pygments_lexer": "ipython3",
   "version": "3.12.1"
  }
 },
 "nbformat": 4,
 "nbformat_minor": 2
}
